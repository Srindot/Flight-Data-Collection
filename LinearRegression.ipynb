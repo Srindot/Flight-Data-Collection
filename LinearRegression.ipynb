{
 "cells": [
  {
   "cell_type": "markdown",
   "metadata": {},
   "source": [
    "## Linear Regression Model \n",
    "#### Training Linear Regression model using Ptera sotware data of the Flapping wing "
   ]
  },
  {
   "cell_type": "markdown",
   "metadata": {},
   "source": [
    "Importing the Modules"
   ]
  },
  {
   "cell_type": "code",
   "execution_count": 2,
   "metadata": {},
   "outputs": [
    {
     "ename": "ModuleNotFoundError",
     "evalue": "No module named 'Selfpunctions'",
     "output_type": "error",
     "traceback": [
      "\u001b[1;31m---------------------------------------------------------------------------\u001b[0m",
      "\u001b[1;31mModuleNotFoundError\u001b[0m                       Traceback (most recent call last)",
      "Cell \u001b[1;32mIn[2], line 5\u001b[0m\n\u001b[0;32m      3\u001b[0m \u001b[38;5;28;01mfrom\u001b[39;00m \u001b[38;5;21;01msklearn\u001b[39;00m\u001b[38;5;21;01m.\u001b[39;00m\u001b[38;5;21;01mlinear_model\u001b[39;00m \u001b[38;5;28;01mimport\u001b[39;00m LinearRegression\n\u001b[0;32m      4\u001b[0m \u001b[38;5;28;01mfrom\u001b[39;00m \u001b[38;5;21;01msklearn\u001b[39;00m\u001b[38;5;21;01m.\u001b[39;00m\u001b[38;5;21;01mmetrics\u001b[39;00m \u001b[38;5;28;01mimport\u001b[39;00m mean_squared_error, r2_score\n\u001b[1;32m----> 5\u001b[0m \u001b[38;5;28;01mfrom\u001b[39;00m \u001b[38;5;21;01mMark4\u001b[39;00m \u001b[38;5;28;01mimport\u001b[39;00m Mark4Simulation\n\u001b[0;32m      6\u001b[0m \u001b[38;5;28;01mimport\u001b[39;00m \u001b[38;5;21;01mrandom\u001b[39;00m \u001b[38;5;28;01mas\u001b[39;00m \u001b[38;5;21;01mrnd\u001b[39;00m\n",
      "File \u001b[1;32mc:\\Users\\bsdha\\OneDrive\\Documents\\Research\\PteraSoftware-3.0.0\\PteraSoftware-3.0.0\\simulations\\Mark4.py:4\u001b[0m\n\u001b[0;32m      2\u001b[0m \u001b[38;5;28;01mimport\u001b[39;00m \u001b[38;5;21;01mnumpy\u001b[39;00m \u001b[38;5;28;01mas\u001b[39;00m \u001b[38;5;21;01mnp\u001b[39;00m\n\u001b[0;32m      3\u001b[0m \u001b[38;5;28;01mimport\u001b[39;00m \u001b[38;5;21;01mmatplotlib\u001b[39;00m\u001b[38;5;21;01m.\u001b[39;00m\u001b[38;5;21;01mpyplot\u001b[39;00m \u001b[38;5;28;01mas\u001b[39;00m \u001b[38;5;21;01mplt\u001b[39;00m\n\u001b[1;32m----> 4\u001b[0m \u001b[38;5;28;01mfrom\u001b[39;00m \u001b[38;5;21;01mSelfpunctions\u001b[39;00m \u001b[38;5;28;01mimport\u001b[39;00m extract_forces, extract_second_cycle\n\u001b[0;32m      5\u001b[0m \u001b[38;5;28;01mimport\u001b[39;00m \u001b[38;5;21;01mos\u001b[39;00m \n\u001b[0;32m      6\u001b[0m \u001b[38;5;28;01mimport\u001b[39;00m \u001b[38;5;21;01mcsv\u001b[39;00m\n",
      "\u001b[1;31mModuleNotFoundError\u001b[0m: No module named 'Selfpunctions'"
     ]
    }
   ],
   "source": [
    "import pandas as pd\n",
    "from sklearn.model_selection import train_test_split\n",
    "from sklearn.linear_model import LinearRegression\n",
    "from sklearn.metrics import mean_squared_error, r2_score\n",
    "from Mark4 import Mark4Simulation\n",
    "import random as rnd"
   ]
  },
  {
   "cell_type": "markdown",
   "metadata": {},
   "source": [
    "Data Loading"
   ]
  },
  {
   "cell_type": "code",
   "execution_count": 67,
   "metadata": {},
   "outputs": [
    {
     "name": "stdout",
     "output_type": "stream",
     "text": [
      "       0.1  1.0  -30       0.0  13.921392893621835  1.855566072676779  \\\n",
      "0      0.1  1.0  -30  0.500000           -9.041235          -4.439285   \n",
      "1      0.1  1.0  -25  0.000000           13.925155           1.909448   \n",
      "2      0.1  1.0  -25  0.500000          -11.013954          -4.369710   \n",
      "3      0.1  1.0  -20  0.000000           13.789185           1.963994   \n",
      "4      0.1  1.0  -20  0.500000          -12.863685          -4.297365   \n",
      "...    ...  ...  ...       ...                 ...                ...   \n",
      "92151  1.2  6.0   30  0.970588          -14.949841           0.056181   \n",
      "92152  1.2  6.0   30  0.976471          -14.939992           0.041060   \n",
      "92153  1.2  6.0   30  0.982353          -14.929552           0.025673   \n",
      "92154  1.2  6.0   30  0.988235          -14.918350           0.010004   \n",
      "92155  1.2  6.0   30  0.994118          -14.906249          -0.005956   \n",
      "\n",
      "       0.29445285416478306  \n",
      "0                22.045514  \n",
      "1                 1.711641  \n",
      "2                20.869233  \n",
      "3                 3.143793  \n",
      "4                19.520126  \n",
      "...                    ...  \n",
      "92151            -3.850756  \n",
      "92152            -3.836797  \n",
      "92153            -3.821214  \n",
      "92154            -3.804004  \n",
      "92155            -3.785174  \n",
      "\n",
      "[92156 rows x 7 columns]\n"
     ]
    }
   ],
   "source": [
    "# Reading the Data\n",
    "data = pd.read_csv(\"Mark3Data.csv\",header = 0)\n",
    "\n",
    "# Displaying the structure of the Data \n",
    "print(pd.DataFrame(data))"
   ]
  },
  {
   "cell_type": "markdown",
   "metadata": {},
   "source": [
    "Data Splitting"
   ]
  },
  {
   "cell_type": "code",
   "execution_count": 68,
   "metadata": {},
   "outputs": [
    {
     "name": "stdout",
     "output_type": "stream",
     "text": [
      "\n",
      "\n",
      "Input Parameters : \n",
      "       Flapping Frequency  Airspeed  Angle Of Attack  Normalised Time\n",
      "0                     0.1       1.0              -30         0.500000\n",
      "1                     0.1       1.0              -25         0.000000\n",
      "2                     0.1       1.0              -25         0.500000\n",
      "3                     0.1       1.0              -20         0.000000\n",
      "4                     0.1       1.0              -20         0.500000\n",
      "...                   ...       ...              ...              ...\n",
      "92151                 1.2       6.0               30         0.970588\n",
      "92152                 1.2       6.0               30         0.976471\n",
      "92153                 1.2       6.0               30         0.982353\n",
      "92154                 1.2       6.0               30         0.988235\n",
      "92155                 1.2       6.0               30         0.994118\n",
      "\n",
      "[92156 rows x 4 columns]\n",
      "\n",
      "\n",
      "Lebels : \n",
      "            Lift  Induced Drag  Pitching Moment\n",
      "0      -9.041235     -4.439285        22.045514\n",
      "1      13.925155      1.909448         1.711641\n",
      "2     -11.013954     -4.369710        20.869233\n",
      "3      13.789185      1.963994         3.143793\n",
      "4     -12.863685     -4.297365        19.520126\n",
      "...          ...           ...              ...\n",
      "92151 -14.949841      0.056181        -3.850756\n",
      "92152 -14.939992      0.041060        -3.836797\n",
      "92153 -14.929552      0.025673        -3.821214\n",
      "92154 -14.918350      0.010004        -3.804004\n",
      "92155 -14.906249     -0.005956        -3.785174\n",
      "\n",
      "[92156 rows x 3 columns]\n"
     ]
    }
   ],
   "source": [
    "print(\"\\n\")\n",
    "data.columns = ['Flapping Frequency', 'Airspeed', 'Angle Of Attack', \n",
    "                'Normalised Time', 'Lift', 'Induced Drag', 'Pitching Moment']\n",
    "\n",
    "# Split the data into features and targets\n",
    "X = data[['Flapping Frequency', 'Airspeed', 'Angle Of Attack', 'Normalised Time']]\n",
    "y = data[['Lift', 'Induced Drag', 'Pitching Moment']]\n",
    "\n",
    "print(\"Input Parameters : \")\n",
    "print(pd.DataFrame(X))\n",
    "print(\"\\n\")\n",
    "print(\"Lebels : \")\n",
    "print(pd.DataFrame(y))"
   ]
  },
  {
   "cell_type": "markdown",
   "metadata": {},
   "source": [
    "Model Training"
   ]
  },
  {
   "cell_type": "code",
   "execution_count": 69,
   "metadata": {},
   "outputs": [
    {
     "data": {
      "text/html": [
       "<style>#sk-container-id-4 {color: black;}#sk-container-id-4 pre{padding: 0;}#sk-container-id-4 div.sk-toggleable {background-color: white;}#sk-container-id-4 label.sk-toggleable__label {cursor: pointer;display: block;width: 100%;margin-bottom: 0;padding: 0.3em;box-sizing: border-box;text-align: center;}#sk-container-id-4 label.sk-toggleable__label-arrow:before {content: \"▸\";float: left;margin-right: 0.25em;color: #696969;}#sk-container-id-4 label.sk-toggleable__label-arrow:hover:before {color: black;}#sk-container-id-4 div.sk-estimator:hover label.sk-toggleable__label-arrow:before {color: black;}#sk-container-id-4 div.sk-toggleable__content {max-height: 0;max-width: 0;overflow: hidden;text-align: left;background-color: #f0f8ff;}#sk-container-id-4 div.sk-toggleable__content pre {margin: 0.2em;color: black;border-radius: 0.25em;background-color: #f0f8ff;}#sk-container-id-4 input.sk-toggleable__control:checked~div.sk-toggleable__content {max-height: 200px;max-width: 100%;overflow: auto;}#sk-container-id-4 input.sk-toggleable__control:checked~label.sk-toggleable__label-arrow:before {content: \"▾\";}#sk-container-id-4 div.sk-estimator input.sk-toggleable__control:checked~label.sk-toggleable__label {background-color: #d4ebff;}#sk-container-id-4 div.sk-label input.sk-toggleable__control:checked~label.sk-toggleable__label {background-color: #d4ebff;}#sk-container-id-4 input.sk-hidden--visually {border: 0;clip: rect(1px 1px 1px 1px);clip: rect(1px, 1px, 1px, 1px);height: 1px;margin: -1px;overflow: hidden;padding: 0;position: absolute;width: 1px;}#sk-container-id-4 div.sk-estimator {font-family: monospace;background-color: #f0f8ff;border: 1px dotted black;border-radius: 0.25em;box-sizing: border-box;margin-bottom: 0.5em;}#sk-container-id-4 div.sk-estimator:hover {background-color: #d4ebff;}#sk-container-id-4 div.sk-parallel-item::after {content: \"\";width: 100%;border-bottom: 1px solid gray;flex-grow: 1;}#sk-container-id-4 div.sk-label:hover label.sk-toggleable__label {background-color: #d4ebff;}#sk-container-id-4 div.sk-serial::before {content: \"\";position: absolute;border-left: 1px solid gray;box-sizing: border-box;top: 0;bottom: 0;left: 50%;z-index: 0;}#sk-container-id-4 div.sk-serial {display: flex;flex-direction: column;align-items: center;background-color: white;padding-right: 0.2em;padding-left: 0.2em;position: relative;}#sk-container-id-4 div.sk-item {position: relative;z-index: 1;}#sk-container-id-4 div.sk-parallel {display: flex;align-items: stretch;justify-content: center;background-color: white;position: relative;}#sk-container-id-4 div.sk-item::before, #sk-container-id-4 div.sk-parallel-item::before {content: \"\";position: absolute;border-left: 1px solid gray;box-sizing: border-box;top: 0;bottom: 0;left: 50%;z-index: -1;}#sk-container-id-4 div.sk-parallel-item {display: flex;flex-direction: column;z-index: 1;position: relative;background-color: white;}#sk-container-id-4 div.sk-parallel-item:first-child::after {align-self: flex-end;width: 50%;}#sk-container-id-4 div.sk-parallel-item:last-child::after {align-self: flex-start;width: 50%;}#sk-container-id-4 div.sk-parallel-item:only-child::after {width: 0;}#sk-container-id-4 div.sk-dashed-wrapped {border: 1px dashed gray;margin: 0 0.4em 0.5em 0.4em;box-sizing: border-box;padding-bottom: 0.4em;background-color: white;}#sk-container-id-4 div.sk-label label {font-family: monospace;font-weight: bold;display: inline-block;line-height: 1.2em;}#sk-container-id-4 div.sk-label-container {text-align: center;}#sk-container-id-4 div.sk-container {/* jupyter's `normalize.less` sets `[hidden] { display: none; }` but bootstrap.min.css set `[hidden] { display: none !important; }` so we also need the `!important` here to be able to override the default hidden behavior on the sphinx rendered scikit-learn.org. See: https://github.com/scikit-learn/scikit-learn/issues/21755 */display: inline-block !important;position: relative;}#sk-container-id-4 div.sk-text-repr-fallback {display: none;}</style><div id=\"sk-container-id-4\" class=\"sk-top-container\"><div class=\"sk-text-repr-fallback\"><pre>LinearRegression()</pre><b>In a Jupyter environment, please rerun this cell to show the HTML representation or trust the notebook. <br />On GitHub, the HTML representation is unable to render, please try loading this page with nbviewer.org.</b></div><div class=\"sk-container\" hidden><div class=\"sk-item\"><div class=\"sk-estimator sk-toggleable\"><input class=\"sk-toggleable__control sk-hidden--visually\" id=\"sk-estimator-id-4\" type=\"checkbox\" checked><label for=\"sk-estimator-id-4\" class=\"sk-toggleable__label sk-toggleable__label-arrow\">LinearRegression</label><div class=\"sk-toggleable__content\"><pre>LinearRegression()</pre></div></div></div></div></div>"
      ],
      "text/plain": [
       "LinearRegression()"
      ]
     },
     "execution_count": 69,
     "metadata": {},
     "output_type": "execute_result"
    }
   ],
   "source": [
    "# Create a Linear Regression model\n",
    "model = LinearRegression()\n",
    "\n",
    "# Train the model\n",
    "model.fit(X, y)"
   ]
  },
  {
   "cell_type": "markdown",
   "metadata": {},
   "source": [
    "Predicting values using the Model"
   ]
  },
  {
   "cell_type": "code",
   "execution_count": 70,
   "metadata": {},
   "outputs": [
    {
     "name": "stdout",
     "output_type": "stream",
     "text": [
      "   Flapping Frequency  Airspeed  Angle Of Attack  Normalised Time\n",
      "0                1.15         4                5              0.5\n",
      "Predicted Values:  [[-3.38710952 -0.01236661 -1.0828347 ]]\n"
     ]
    }
   ],
   "source": [
    "\n",
    "# List of values for prediction\n",
    "X_test = [1.15, 4, 5, 0.5]\n",
    "\n",
    "# Correct feature names that match the ones used during training\n",
    "feature_names = ['Flapping Frequency', 'Airspeed', 'Angle Of Attack', 'Normalised Time']\n",
    "\n",
    "# Convert the list to a DataFrame with correct feature names\n",
    "df = pd.DataFrame([X_test], columns=feature_names)\n",
    "\n",
    "print(df)\n",
    "\n",
    "# Predict using the model with the correct DataFrame\n",
    "y_pred = model.predict(df)\n",
    "print(\"Predicted Values: \", y_pred)\n"
   ]
  },
  {
   "cell_type": "markdown",
   "metadata": {},
   "source": [
    "# Verification "
   ]
  },
  {
   "cell_type": "markdown",
   "metadata": {},
   "source": [
    "By Random point generation"
   ]
  },
  {
   "cell_type": "code",
   "execution_count": 1,
   "metadata": {},
   "outputs": [
    {
     "ename": "NameError",
     "evalue": "name 'rnd' is not defined",
     "output_type": "error",
     "traceback": [
      "\u001b[1;31m---------------------------------------------------------------------------\u001b[0m",
      "\u001b[1;31mNameError\u001b[0m                                 Traceback (most recent call last)",
      "Cell \u001b[1;32mIn[1], line 4\u001b[0m\n\u001b[0;32m      1\u001b[0m X_test \u001b[38;5;241m=\u001b[39m [\u001b[38;5;241m1.15\u001b[39m, \u001b[38;5;241m4\u001b[39m, \u001b[38;5;241m5\u001b[39m, \u001b[38;5;241m0.5\u001b[39m]\n\u001b[0;32m      3\u001b[0m \u001b[38;5;66;03m# Assign random values to the list\u001b[39;00m\n\u001b[1;32m----> 4\u001b[0m X_test[\u001b[38;5;241m0\u001b[39m] \u001b[38;5;241m=\u001b[39m \u001b[43mrnd\u001b[49m\u001b[38;5;241m.\u001b[39muniform(\u001b[38;5;241m0.2\u001b[39m, \u001b[38;5;241m1.2\u001b[39m)\n\u001b[0;32m      5\u001b[0m X_test[\u001b[38;5;241m1\u001b[39m] \u001b[38;5;241m=\u001b[39m rnd\u001b[38;5;241m.\u001b[39muniform(\u001b[38;5;241m0\u001b[39m, \u001b[38;5;241m6\u001b[39m)\n\u001b[0;32m      6\u001b[0m X_test[\u001b[38;5;241m2\u001b[39m] \u001b[38;5;241m=\u001b[39mrnd\u001b[38;5;241m.\u001b[39muniform(\u001b[38;5;241m0.2\u001b[39m, \u001b[38;5;241m1.2\u001b[39m)\n",
      "\u001b[1;31mNameError\u001b[0m: name 'rnd' is not defined"
     ]
    }
   ],
   "source": [
    "X_test = [1.15, 4, 5, 0.5]\n",
    "\n",
    "# Assign random values to the list\n",
    "X_test[0] = rnd.uniform(0.2, 1.2)\n",
    "X_test[1] = rnd.uniform(0, 6)\n",
    "X_test[2] =rnd.uniform(0.2, 1.2)\n",
    "\n",
    "# Print the values after assignment\n",
    "print(X_test)\n",
    "\n",
    "#Calling Ptera Software\n",
    "Mark4Simulation(X_test[0], X_test[1], X_test[2])\n",
    "\n",
    "print(\"\\n\")\n",
    "\n",
    "print(\"Extracting Random Time data from the simulation\")\n",
    "# Reading the Data\n",
    "data = pd.read_csv(\"Data/ModelVerification.csv\",header = None)\n",
    "\n",
    "# Displaying the structure of the Data \n",
    "print(pd.DataFrame(data))\n",
    "\n",
    "#choosing a random Row\n",
    "\n",
    "random_row = data.sample(n=1)\n",
    "\n",
    "print(random_row)\n",
    "\n",
    "random_row_array = random_row.values.flatten()\n",
    "\n",
    "# Predicting with the model \n",
    "y_pred = model.predict([random_row_array[0:4]])\n",
    "\n",
    "# Extract the predicted values\n",
    "y_pred_values = y_pred.flatten()  # Ensure it is 1D\n",
    "\n",
    "# Print predicted values\n",
    "print(\"Predicted Values: \", y_pred_values)\n",
    "\n",
    "# Print actual values\n",
    "print(\"Actual Values: \", random_row_array[4:7])\n",
    "\n",
    "# Calculate Mean Squared Error for each output\n",
    "mseLift = mean_squared_error([random_row_array[4]], [y_pred_values[0]])\n",
    "mseID = mean_squared_error([random_row_array[5]], [y_pred_values[1]])\n",
    "msePM = mean_squared_error([random_row_array[6]], [y_pred_values[2]])\n",
    "\n",
    "# Calculate percentage error\n",
    "lift_percentage_error = (abs(random_row_array[4] - y_pred_values[0]) / abs(random_row_array[4])) * 100\n",
    "id_percentage_error = (abs(random_row_array[5] - y_pred_values[1]) / abs(random_row_array[5])) * 100\n",
    "pm_percentage_error = (abs(random_row_array[6] - y_pred_values[2]) / abs(random_row_array[6])) * 100\n",
    "\n",
    "# Print Mean Squared Error and its percentage for each output\n",
    "print(\"\\nMean Squared Error of Lift: \", mseLift)\n",
    "print(\"Mean Absolute Percentage Error of Lift: \", lift_percentage_error)\n",
    "\n",
    "print(\"\\nMean Squared Error of Induced Drag: \", mseID)\n",
    "print(\"Mean Absolute Percentage Error of Induced Drag: \", id_percentage_error)\n",
    "\n",
    "print(\"\\nMean Squared Error of Pitching Moment: \", msePM)\n",
    "print(\"Mean Absolute Percentage Error of Pitching Moment: \", pm_percentage_error)\n"
   ]
  }
 ],
 "metadata": {
  "kernelspec": {
   "display_name": "PteraEnv",
   "language": "python",
   "name": "python3"
  },
  "language_info": {
   "codemirror_mode": {
    "name": "ipython",
    "version": 3
   },
   "file_extension": ".py",
   "mimetype": "text/x-python",
   "name": "python",
   "nbconvert_exporter": "python",
   "pygments_lexer": "ipython3",
   "version": "3.8.18"
  }
 },
 "nbformat": 4,
 "nbformat_minor": 2
}
